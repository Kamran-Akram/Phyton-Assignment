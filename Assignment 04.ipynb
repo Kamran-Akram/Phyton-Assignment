{
 "cells": [
  {
   "cell_type": "code",
   "execution_count": 1,
   "metadata": {},
   "outputs": [
    {
     "name": "stdout",
     "output_type": "stream",
     "text": [
      "The Alice is Wonderland is one of my favorite book.\n"
     ]
    }
   ],
   "source": [
    "# Question No 04\n",
    "\n",
    "def favorite_book(title):\n",
    "    \"\"\"Display a message about someone's favorite book.\"\"\"\n",
    "    print(title + \" is one of my favorite book.\")\n",
    "    \n",
    "favorite_book('The Alice is Wonderland')"
   ]
  },
  {
   "cell_type": "code",
   "execution_count": 2,
   "metadata": {},
   "outputs": [
    {
     "name": "stdout",
     "output_type": "stream",
     "text": [
      "Guess my target number that is between 1and 30 (inclusive). \n",
      "\n",
      "Your guess(1): 29\n",
      " Too High.\n",
      "Your guess(2): 20\n",
      " Too Low.\n",
      "Your guess(3): 25\n",
      " Too High.\n",
      "Your guess(4): 24\n",
      " Too High.\n",
      "Your guess(5): 23\n",
      " Too High.\n",
      "Your guess(6): 22\n",
      " Too High.\n",
      "Your guess(7): 21\n",
      " Wow !!\n",
      "\n",
      " Thanks for Playing !!\n"
     ]
    }
   ],
   "source": [
    "# Question No 05\n",
    "\n",
    "import random \n",
    "\n",
    "inclusive_range = (1,30)\n",
    "\n",
    "print(\"Guess my target number that is between %iand %i (inclusive). \\n\"\n",
    "      % inclusive_range)\n",
    "target = random.randint(*inclusive_range)\n",
    "answer, i = None, 0\n",
    "while answer != target:\n",
    "    i += 1\n",
    "    txt = input(\"Your guess(%i): \" % i)\n",
    "    try:\n",
    "        answer = int(txt)\n",
    "    except ValueError:\n",
    "        print(\" I don't understand your input of '%s' ?\" % txt)\n",
    "        continue\n",
    "    if answer < inclusive_range[0] or answer > inclusive_range[1]:\n",
    "        print(\" Out of range! \")\n",
    "        continue \n",
    "    if answer == target:\n",
    "        print(\" Wow !!\")\n",
    "        break\n",
    "    if answer < target:\n",
    "        print(\" Too Low.\")\n",
    "    if answer > target:\n",
    "        print(\" Too High.\")\n",
    "        \n",
    "print(\"\\n Thanks for Playing !!\")"
   ]
  },
  {
   "cell_type": "code",
   "execution_count": 6,
   "metadata": {},
   "outputs": [
    {
     "name": "stdout",
     "output_type": "stream",
     "text": [
      "Kamran\n",
      "Akram\n",
      "24\n",
      "Karachi\n",
      "\n",
      "Karachi is in Pakistan.\n",
      "  It has a population of about 15741000.\n",
      "\n",
      "Lahore is in Pakistan.\n",
      "  It has a population of about 12188000.\n",
      "\n",
      "Islamabad is in Pakistan.\n",
      "  It has a population of about 1095064.\n"
     ]
    }
   ],
   "source": [
    "# Question No 02\n",
    "\n",
    "person = {\n",
    "    'first_name': 'Kamran', \n",
    "    'last_name': 'Akram' ,\n",
    "    'age' : 24 ,\n",
    "    'city': 'Karachi' ,\n",
    "}\n",
    "\n",
    "print(person['first_name'])\n",
    "print(person['last_name'])\n",
    "print(person['age'])\n",
    "print(person['city'])\n",
    "\n",
    "\n",
    "\n",
    "cities = {\n",
    "    'Karachi': {\n",
    "        'country': 'Pakistan',\n",
    "        'population': 15741000,\n",
    "        },\n",
    "    'Lahore': {\n",
    "        'country': 'Pakistan',\n",
    "        'population': 12188000,\n",
    "        },\n",
    "    'Islamabad': {\n",
    "        'country': 'Pakistan',\n",
    "        'population': 1095064,\n",
    "        }\n",
    "    }\n",
    "\n",
    "for city, city_info in cities.items():\n",
    "    country = city_info['country'].title()\n",
    "    population = city_info['population']\n",
    "\n",
    "    print(\"\\n\" + city.title() + \" is in \" + country + \".\")\n",
    "    print(\"  It has a population of about \" + str(population) + \".\")"
   ]
  },
  {
   "cell_type": "code",
   "execution_count": 7,
   "metadata": {},
   "outputs": [
    {
     "name": "stdout",
     "output_type": "stream",
     "text": [
      "Kamran\n",
      "Akram\n",
      "24\n",
      "Karachi\n",
      "BSCS\n"
     ]
    }
   ],
   "source": [
    "# Question No 01\n",
    "\n",
    "dict1 = {\n",
    "    'first_name': 'Kamran', \n",
    "    'last_name': 'Akram' ,\n",
    "    'age' : 24 ,\n",
    "    'city': 'Karachi' ,\n",
    "}\n",
    "\n",
    "dict2 = { \n",
    "    'Qualification': 'BSCS'\n",
    "     }\n",
    "     \n",
    "print(dict1['first_name'])\n",
    "print(dict1['last_name'])\n",
    "print(dict1['age'])\n",
    "print(dict1['city'])\n",
    "print(dict2['Qualification'])\n",
    "\n",
    "    \n"
   ]
  },
  {
   "cell_type": "code",
   "execution_count": null,
   "metadata": {},
   "outputs": [
    {
     "name": "stdout",
     "output_type": "stream",
     "text": [
      "How old are you?\n",
      " Enter 'quit' when you are finished. 24\n",
      " Your ticket is $15.\n"
     ]
    }
   ],
   "source": [
    "# Question No 03\n",
    "\n",
    "prompt = \"How old are you?\"\n",
    "prompt += \"\\n Enter 'quit' when you are finished. \"\n",
    "\n",
    "while True:\n",
    "    age = input(prompt)\n",
    "    if age == 'quit':\n",
    "        break\n",
    "    age = int(age)\n",
    "    \n",
    "    if age < 3:\n",
    "        print(\" You get in free!\")\n",
    "    elif age < 13:\n",
    "        print(\" Your ticket is $10.\")\n",
    "    else:\n",
    "        print(\" Your ticket is $15.\")"
   ]
  },
  {
   "cell_type": "code",
   "execution_count": null,
   "metadata": {},
   "outputs": [],
   "source": []
  }
 ],
 "metadata": {
  "kernelspec": {
   "display_name": "Python 3",
   "language": "python",
   "name": "python3"
  },
  "language_info": {
   "codemirror_mode": {
    "name": "ipython",
    "version": 3
   },
   "file_extension": ".py",
   "mimetype": "text/x-python",
   "name": "python",
   "nbconvert_exporter": "python",
   "pygments_lexer": "ipython3",
   "version": "3.7.4"
  }
 },
 "nbformat": 4,
 "nbformat_minor": 2
}
