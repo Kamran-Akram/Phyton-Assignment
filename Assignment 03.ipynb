{
 "cells": [
  {
   "cell_type": "code",
   "execution_count": 11,
   "metadata": {},
   "outputs": [
    {
     "name": "stdout",
     "output_type": "stream",
     "text": [
      "Enter first value5\n",
      "Enter second value4\n",
      "Enter Operator^\n",
      "1 answer\n"
     ]
    }
   ],
   "source": [
    "val1 = input('Enter first value')\n",
    "val2 = input('Enter second value')\n",
    "operator = input('Enter Operator')\n",
    "val1 = int(val1)\n",
    "val2 = int(val2)\n",
    "if operator == '+':\n",
    "    val = val1 + val2\n",
    "    print (val,'answer')\n",
    "elif operator == '-':\n",
    "    val = val1 - val2\n",
    "    print (val, 'answer')\n",
    "elif operator == '*':\n",
    "    val = val1 * val2\n",
    "    print (val, 'answer')\n",
    "elif operator == '/':\n",
    "    val = val1 / val2\n",
    "    print (val, 'answer')\n",
    "elif operator == '^':\n",
    "    val = val1 ^ val2\n",
    "    print (val, 'answer')\n",
    "else:\n",
    "    print ('Enter Correct Operator')\n",
    "\n"
   ]
  },
  {
   "cell_type": "markdown",
   "metadata": {},
   "source": []
  },
  {
   "cell_type": "code",
   "execution_count": 15,
   "metadata": {},
   "outputs": [
    {
     "name": "stdout",
     "output_type": "stream",
     "text": [
      "Check if 8 exist list in list using for loop \n",
      "Element Exist\n"
     ]
    }
   ],
   "source": [
    "test_list = [3, 5, 7, 8, 9, 3, 7]\n",
    "print(\"Check if 8 exist list in list using for loop \")\n",
    "for i in test_list:\n",
    "    if(i==8):\n",
    "        print (\"Element Exist\")\n"
   ]
  },
  {
   "cell_type": "code",
   "execution_count": 18,
   "metadata": {},
   "outputs": [
    {
     "name": "stdout",
     "output_type": "stream",
     "text": [
      "{6: 10, 7: 20}\n",
      "{6: 10, 7: 20, 8: 30}\n"
     ]
    }
   ],
   "source": [
    "d = {6:10, 7:20}\n",
    "print(d)\n",
    "d.update({8:30})\n",
    "print(d)\n"
   ]
  },
  {
   "cell_type": "code",
   "execution_count": 19,
   "metadata": {},
   "outputs": [
    {
     "name": "stdout",
     "output_type": "stream",
     "text": [
      "900\n"
     ]
    }
   ],
   "source": [
    "my_dict = {'data1':200, 'data2':300, 'data3':400}\n",
    "print(sum(my_dict.values()))"
   ]
  },
  {
   "cell_type": "code",
   "execution_count": 21,
   "metadata": {},
   "outputs": [
    {
     "name": "stdout",
     "output_type": "stream",
     "text": [
      "[100, 300, 600]\n"
     ]
    }
   ],
   "source": [
    "def Repeat(x):\n",
    "    _size = len(x)\n",
    "    repeated = []\n",
    "    for i in range(_size):\n",
    "        k = i + 1\n",
    "        for j in range(k,_size):\n",
    "            if x[j] == x[i] not in repeated:\n",
    "                repeated.append(x[i])\n",
    "    return repeated\n",
    "list1 = [100, 300, 600, 500, 600, 400, 300, 546, 100, 600]\n",
    "print (Repeat(list1))\n"
   ]
  },
  {
   "cell_type": "code",
   "execution_count": 22,
   "metadata": {},
   "outputs": [
    {
     "name": "stdout",
     "output_type": "stream",
     "text": [
      "Key is Present in the Dictionary\n",
      "Key is not Present in the Dictionary\n"
     ]
    }
   ],
   "source": [
    "d = {1: 100, 2: 200, 3: 300, 4: 400, 5: 500, 6: 600}\n",
    "def is_key_present(x):\n",
    "    if x in d:\n",
    "        print('Key is Present in the Dictionary')\n",
    "    else:\n",
    "        print('Key is not Present in the Dictionary')\n",
    "is_key_present(5)\n",
    "is_key_present(7)"
   ]
  },
  {
   "cell_type": "code",
   "execution_count": null,
   "metadata": {},
   "outputs": [],
   "source": []
  }
 ],
 "metadata": {
  "kernelspec": {
   "display_name": "Python 3",
   "language": "python",
   "name": "python3"
  },
  "language_info": {
   "codemirror_mode": {
    "name": "ipython",
    "version": 3
   },
   "file_extension": ".py",
   "mimetype": "text/x-python",
   "name": "python",
   "nbconvert_exporter": "python",
   "pygments_lexer": "ipython3",
   "version": "3.7.4"
  }
 },
 "nbformat": 4,
 "nbformat_minor": 2
}
