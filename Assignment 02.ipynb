{
 "cells": [
  {
   "cell_type": "code",
   "execution_count": 1,
   "metadata": {},
   "outputs": [
    {
     "name": "stdout",
     "output_type": "stream",
     "text": [
      "         MARK SHEET          \n",
      "Enter Marks of the First Subject :79\n",
      "Enter Marks of the Second Subject :89\n",
      "Enter Marks of the Third Subject :88\n",
      "Enter Marks of the Fourth Subject :87\n",
      "Enter Marks of the Fifth Subject :76\n",
      "Your Grade is B\n"
     ]
    }
   ],
   "source": [
    "print (\"         MARK SHEET          \")\n",
    "sub1=int(input(\"Enter Marks of the First Subject :\"))\n",
    "sub2=int(input(\"Enter Marks of the Second Subject :\"))\n",
    "sub3=int(input(\"Enter Marks of the Third Subject :\"))\n",
    "sub4=int(input(\"Enter Marks of the Fourth Subject :\"))\n",
    "sub5=int(input(\"Enter Marks of the Fifth Subject :\"))\n",
    "avg=(sub1+sub2+sub3+sub4+sub5)/5\n",
    "if(avg>=90):\n",
    "    print(\"Your Grade is A\")\n",
    "elif(avg>=80):\n",
    "    print(\"Your Grade is B\")\n",
    "elif(avg>=70):\n",
    "    print(\"Your Grade is C\")\n",
    "elif(avg>=60):\n",
    "    print(\"Your Grade is D\")\n",
    "else:\n",
    "    print(\"Your Grade is F\")"
   ]
  },
  {
   "cell_type": "code",
   "execution_count": 2,
   "metadata": {},
   "outputs": [
    {
     "name": "stdout",
     "output_type": "stream",
     "text": [
      "Enter a Number :8\n",
      "This is an Even Number !\n"
     ]
    }
   ],
   "source": [
    "num=int(input(\"Enter a Number :\"))\n",
    "mod= num % 2\n",
    "if mod >0:\n",
    "    print (\"This is an Odd Number !\")\n",
    "else:\n",
    "    print (\"This is an Even Number !\")"
   ]
  },
  {
   "cell_type": "code",
   "execution_count": 3,
   "metadata": {},
   "outputs": [
    {
     "name": "stdout",
     "output_type": "stream",
     "text": [
      "The Length of the List: 3\n"
     ]
    }
   ],
   "source": [
    "n= len ([10,50,100])\n",
    "print (\"The Length of the List:\" , n)"
   ]
  },
  {
   "cell_type": "code",
   "execution_count": 4,
   "metadata": {},
   "outputs": [
    {
     "name": "stdout",
     "output_type": "stream",
     "text": [
      "The Sum of All Elements in Given List 281\n"
     ]
    }
   ],
   "source": [
    "list1= [10, 50, 67, 87, 67]\n",
    "total= sum(list1)\n",
    "print(\"The Sum of All Elements in Given List\" , total )"
   ]
  },
  {
   "cell_type": "code",
   "execution_count": 5,
   "metadata": {},
   "outputs": [
    {
     "name": "stdout",
     "output_type": "stream",
     "text": [
      "The Largetst Number of the List : 567\n"
     ]
    }
   ],
   "source": [
    "list1= [100, 567, 456, 345, 45]\n",
    "print (\"The Largetst Number of the List :\" , max(list1))"
   ]
  },
  {
   "cell_type": "code",
   "execution_count": 6,
   "metadata": {},
   "outputs": [
    {
     "name": "stdout",
     "output_type": "stream",
     "text": [
      "1 1 2 3 "
     ]
    }
   ],
   "source": [
    "list1 = [1, 1, 2, 3, 5, 8, 13, 21, 34, 55, 89] \n",
    "for num in list1: \n",
    "    if num < 5: \n",
    "       print(num, end = \" \")"
   ]
  },
  {
   "cell_type": "code",
   "execution_count": null,
   "metadata": {},
   "outputs": [],
   "source": []
  }
 ],
 "metadata": {
  "kernelspec": {
   "display_name": "Python 3",
   "language": "python",
   "name": "python3"
  },
  "language_info": {
   "codemirror_mode": {
    "name": "ipython",
    "version": 3
   },
   "file_extension": ".py",
   "mimetype": "text/x-python",
   "name": "python",
   "nbconvert_exporter": "python",
   "pygments_lexer": "ipython3",
   "version": "3.7.4"
  }
 },
 "nbformat": 4,
 "nbformat_minor": 2
}
