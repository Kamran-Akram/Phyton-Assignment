{
 "cells": [
  {
   "cell_type": "markdown",
   "metadata": {},
   "source": [
    "# Question No: 01\n",
    "\n",
    "# Object Oriented Programming Language\n",
    "\n",
    "Object-oriented programming is a programming paradigm based on the concept of \"objects\", which can contain data, in the form of fields, and code, in the form of procedures. A feature of objects is an object's procedures that can access and often modify the data fields of the object with which they are associated."
   ]
  },
  {
   "cell_type": "markdown",
   "metadata": {},
   "source": [
    "# Question No: 02\n",
    "\n",
    "\n",
    "# Benefits of OOP\n",
    "\n",
    "\n",
    "1. Modularity for easier troubleshooting\n",
    "2. Reuse of code through inheritance\n",
    "3. Flexibility through polymorphism\n",
    "4. Effective problem solving\n"
   ]
  },
  {
   "cell_type": "markdown",
   "metadata": {},
   "source": [
    "# Question No: 03\n",
    "\n",
    "# Function\n",
    "\n",
    "1.\tFunction do not have any reference variables\n",
    "2.\tAll data that is passed to a function is explicitly passed\n",
    "3.\tIt does not have access controlling i.e. Function other than static functions declares and defines anywhere in the code.\n",
    "4.\tFunctions apply to both object oriented and non-object oriented language procedural language. E.g. C, Scripting language e.g. JavaScript etc.\n",
    "\n",
    "\n",
    "\n",
    "# Method\n",
    "\n",
    "\n",
    "1.\tMethods are called by reference variables.\n",
    "2.\tIt is implicitly passed the object.\n",
    "3.\tIt has access controlling i.e. Method should declare and define in the class only.\n",
    "4.\tMethod is only applicable to object oriented programming language like C++, C#, Java etc.\n"
   ]
  },
  {
   "cell_type": "markdown",
   "metadata": {},
   "source": [
    "# Question No: 04\n",
    "\n",
    "\n",
    "# Class\n",
    "\n",
    "A blueprint created by a programmer for an object. This defines a set of attributes that will characterize any object that is instantiated from this class.\n",
    "\n",
    "\n",
    "# Object\n",
    "\n",
    "An instance of a class. This is the realized version of the class, where the class is manifested in the program.\n",
    "\n",
    "\n",
    "# Attribute\n",
    "\n",
    "A class attribute is a Python variable that belongs to a class rather than a particular object. It is shared between all the objects of this class and it is defined outside the constructor function, __init__(self,...), of the class.\n",
    "\n",
    "\n",
    "# Behavior\n",
    "\n",
    "\n",
    "A class's behavior determines how an instance of that class operates; for example, how it will \"react\" if asked to do something by another class or object or if its internal state changes. Behavior is the only way objects can do anything to themselves or have anything done to them."
   ]
  },
  {
   "cell_type": "code",
   "execution_count": 7,
   "metadata": {},
   "outputs": [
    {
     "name": "stdout",
     "output_type": "stream",
     "text": [
      "Corolla\n",
      "132\n",
      "2019\n",
      "White\n",
      "City Modified Name\n"
     ]
    }
   ],
   "source": [
    "# Question No : 05\n",
    "\n",
    "class Car():\n",
    "    def __init__(self,model,color,company,speed_limit):\n",
    "            self.color = color\n",
    "            self.company = company\n",
    "            self.speed_limit = speed_limit\n",
    "            self.model = model\n",
    "            \n",
    "    def updateCompany(self,newName):\n",
    "        self.company = newName\n",
    "            \n",
    "    \n",
    "c1 = Car('White' , 'Corolla' , '132' , '2019')\n",
    "print(c1.color)\n",
    "print(c1.company)\n",
    "print(c1.speed_limit)\n",
    "print(c1.model)\n",
    "c1.updateCompany('City')\n",
    "print(c1.company, 'Modified Name')\n",
    "\n"
   ]
  },
  {
   "cell_type": "code",
   "execution_count": null,
   "metadata": {},
   "outputs": [],
   "source": []
  }
 ],
 "metadata": {
  "kernelspec": {
   "display_name": "Python 3",
   "language": "python",
   "name": "python3"
  },
  "language_info": {
   "codemirror_mode": {
    "name": "ipython",
    "version": 3
   },
   "file_extension": ".py",
   "mimetype": "text/x-python",
   "name": "python",
   "nbconvert_exporter": "python",
   "pygments_lexer": "ipython3",
   "version": "3.7.4"
  }
 },
 "nbformat": 4,
 "nbformat_minor": 2
}
